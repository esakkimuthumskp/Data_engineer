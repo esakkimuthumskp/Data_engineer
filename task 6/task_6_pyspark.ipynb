{
 "cells": [
  {
   "cell_type": "code",
   "execution_count": 2,
   "id": "13dee40a",
   "metadata": {},
   "outputs": [],
   "source": [
    "import pyspark\n",
    "from pyspark.sql import SparkSession\n",
    "from pyspark.sql.functions import *\n",
    "from pyspark.sql.types import *\n",
    "from pyspark.sql.functions import sum as _sum\n"
   ]
  },
  {
   "cell_type": "code",
   "execution_count": 3,
   "id": "74f420ab",
   "metadata": {},
   "outputs": [
    {
     "name": "stderr",
     "output_type": "stream",
     "text": [
      "22/06/20 12:33:35 WARN Utils: Your hostname, AGLS-MLT-635.local resolves to a loopback address: 127.0.0.1; using 172.16.3.124 instead (on interface en0)\n",
      "22/06/20 12:33:35 WARN Utils: Set SPARK_LOCAL_IP if you need to bind to another address\n",
      "Using Spark's default log4j profile: org/apache/spark/log4j-defaults.properties\n",
      "Setting default log level to \"WARN\".\n",
      "To adjust logging level use sc.setLogLevel(newLevel). For SparkR, use setLogLevel(newLevel).\n",
      "22/06/20 12:33:36 WARN NativeCodeLoader: Unable to load native-hadoop library for your platform... using builtin-java classes where applicable\n"
     ]
    }
   ],
   "source": [
    "spark = SparkSession.builder \\\n",
    "    .master(\"local[1]\") \\\n",
    "    .appName(\"SparkByExamples.com\") \\\n",
    "    .getOrCreate()"
   ]
  },
  {
   "cell_type": "code",
   "execution_count": 4,
   "id": "f456fd5c",
   "metadata": {},
   "outputs": [
    {
     "name": "stderr",
     "output_type": "stream",
     "text": [
      "22/06/20 12:33:49 WARN package: Truncated the string representation of a plan since it was too large. This behavior can be adjusted by setting 'spark.sql.debug.maxToStringFields'.\n"
     ]
    },
    {
     "name": "stdout",
     "output_type": "stream",
     "text": [
      "+---------------+--------------------+--------------------+--------------------+--------------------+--------------+--------------------+-------+-------------+--------------+--------------------+-----------+------------+-----+-----+\n",
      "|_corrupt_record|             address|          attributes|         business_id|          categories|          city|               hours|is_open|     latitude|     longitude|                name|postal_code|review_count|stars|state|\n",
      "+---------------+--------------------+--------------------+--------------------+--------------------+--------------+--------------------+-------+-------------+--------------+--------------------+-----------+------------+-----+-----+\n",
      "|           null|1616 Chapala St, ...|{null, null, null...|Pns2l4eNsfO8kk83d...|Doctors, Traditio...| Santa Barbara|                null|      0|   34.4266787|  -119.7111968|Abby Rappoport, L...|      93101|           7|  5.0|   CA|\n",
      "|           null|87 Grasso Plaza S...|{null, null, null...|mpf3x-BjTdTEA3yCZ...|Shipping Centers,...|        Affton|{8:0-18:30, 0:0-0...|      1|    38.551126|    -90.335695|       The UPS Store|      63123|          15|  3.0|   MO|\n",
      "|           null|5255 E Broadway Blvd|{null, null, null...|tUFrWirKiKi_TAnsV...|Department Stores...|        Tucson|{8:0-23:0, 8:0-22...|      0|    32.223236|   -110.880452|              Target|      85711|          22|  3.5|   AZ|\n",
      "|           null|         935 Race St|{null, null, u'no...|MTSW4McQd7CbVtyjq...|Restaurants, Food...|  Philadelphia|{7:0-21:0, 7:0-20...|      1|   39.9555052|   -75.1555641|  St Honore Pastries|      19107|          80|  4.0|   PA|\n",
      "|           null|       101 Walnut St|{null, null, null...|mWMc6_wTdE0EUBKIG...|Brewpubs, Breweri...|    Green Lane|{12:0-22:0, null,...|      1|   40.3381827|   -75.4716585|Perkiomen Valley ...|      18054|          13|  4.5|   PA|\n",
      "|           null|       615 S Main St|{null, null, u'no...|CF33F8-E6oudUQ46H...|Burgers, Fast Foo...|  Ashland City|{9:0-0:0, 0:0-0:0...|      1|    36.269593|    -87.058943|      Sonic Drive-In|      37015|           6|  2.0|   TN|\n",
      "|           null|8522 Eager Road, ...|{null, null, null...|n_0UpQx1hsNbnPUSl...|Sporting Goods, F...|     Brentwood|{10:0-18:0, 0:0-0...|      1|    38.627695|    -90.340465|     Famous Footwear|      63144|          13|  2.5|   MO|\n",
      "|           null|  400 Pasadena Ave S|                null|qkRM_2X51Yqxk3btl...|Synagogues, Relig...|St. Petersburg|{9:0-17:0, 9:0-17...|      1|     27.76659|    -82.732983|      Temple Beth-El|      33707|           5|  3.5|   FL|\n",
      "|           null|   8025 Mackenzie Rd|{null, null, u'fu...|k0hlBqXX-Bt0vf1op...|Pubs, Restaurants...|        Affton|                null|      0|   38.5651648|   -90.3210868|Tsevi's Pub And G...|      63123|          19|  3.0|   MO|\n",
      "|           null| 2312 Dickerson Pike|{null, null, u'no...|bBDDEgkFA1Otx9Lfe...|Ice Cream & Froze...|     Nashville|{6:0-16:0, 0:0-0:...|      1|   36.2081024|   -86.7681696|      Sonic Drive-In|      37207|          10|  1.5|   TN|\n",
      "|           null|21705 Village Lak...|{null, null, null...|UJsufbvfyfONHeWdv...|Department Stores...| Land O' Lakes|{9:30-21:30, 9:30...|      1|28.1904587953|-82.4573802199|           Marshalls|      34639|           6|  3.5|   FL|\n",
      "|           null|                    |{null, null, 'non...|eEOYSgkmpB90uNA7l...|Vietnamese, Food,...|     Tampa Bay|{11:0-14:0, 11:0-...|      1|   27.9552692|   -82.4563199|Vietnamese Food T...|      33602|          10|  4.0|   FL|\n",
      "|           null|        8901 US 31 S|{null, null, 'non...|il_Ro8jwPlHresjw9...|American (Traditi...|  Indianapolis|{6:0-22:0, 6:0-22...|      1|39.6371332838| -86.127217412|             Denny's|      46227|          28|  2.5|   IN|\n",
      "|           null|   15 N Missouri Ave|{null, null, null...|jaxMSoInw8Poo3XeM...|General Dentistry...|    Clearwater|{null, 7:30-15:30...|      1|    27.966235|    -82.787412|        Adams Dental|      33755|          10|  5.0|   FL|\n",
      "|           null|       2575 E Bay Dr|{null, null, u'no...|0bPLkL0QhhPO5kt1_...|Food, Delis, Ital...|         Largo|{10:0-20:0, 10:0-...|      0|   27.9161159|   -82.7604608|Zio's Italian Market|      33771|         100|  4.5|   FL|\n",
      "|           null|         205 Race St|{null, null, 'ful...|MUTTqe8uqyMdBl186...|Sushi Bars, Resta...|  Philadelphia|{13:30-23:0, null...|      1|    39.953949|   -75.1432262|            Tuna Bar|      19106|         245|  4.0|   PA|\n",
      "|           null|     625 N Stone Ave|{null, null, null...|rBmpy_Y1UbBx8ggHl...|Automotive, Auto ...|        Tucson|{8:0-17:0, 0:0-0:...|      1|   32.2298719|  -110.9723419|Arizona Truck Out...|      85705|          10|  4.5|   AZ|\n",
      "|           null|        712 Adams St|{null, null, null...|M0XSSHqrASOnhgbWD...|Vape Shops, Tobac...|   New Orleans|{10:0-19:0, 10:0-...|      1|29.9414679565| -90.129952757|      Herb Import Co|      70118|           5|  4.0|   LA|\n",
      "|           null|     1241 Airline Dr|                null|8wGISYjYkE2tSqn3c...|Automotive, Car R...|        Kenner|{8:0-17:0, 8:0-17...|      1|    29.981183|   -90.2540123|    Nifty Car Rental|      70062|          14|  3.5|   LA|\n",
      "|           null|       1224 South St|{null, null, u'no...|ROeacJQwBeh05Rqg7...| Korean, Restaurants|  Philadelphia|{11:30-20:30, 11:...|      1|    39.943223|    -75.162568|                 BAP|      19147|         205|  4.5|   PA|\n",
      "+---------------+--------------------+--------------------+--------------------+--------------------+--------------+--------------------+-------+-------------+--------------+--------------------+-----------+------------+-----+-----+\n",
      "only showing top 20 rows\n",
      "\n",
      "root\n",
      " |-- _corrupt_record: string (nullable = true)\n",
      " |-- address: string (nullable = true)\n",
      " |-- attributes: struct (nullable = true)\n",
      " |    |-- AcceptsInsurance: string (nullable = true)\n",
      " |    |-- AgesAllowed: string (nullable = true)\n",
      " |    |-- Alcohol: string (nullable = true)\n",
      " |    |-- Ambience: string (nullable = true)\n",
      " |    |-- BYOB: string (nullable = true)\n",
      " |    |-- BYOBCorkage: string (nullable = true)\n",
      " |    |-- BestNights: string (nullable = true)\n",
      " |    |-- BikeParking: string (nullable = true)\n",
      " |    |-- BusinessAcceptsBitcoin: string (nullable = true)\n",
      " |    |-- BusinessAcceptsCreditCards: string (nullable = true)\n",
      " |    |-- BusinessParking: string (nullable = true)\n",
      " |    |-- ByAppointmentOnly: string (nullable = true)\n",
      " |    |-- Caters: string (nullable = true)\n",
      " |    |-- CoatCheck: string (nullable = true)\n",
      " |    |-- Corkage: string (nullable = true)\n",
      " |    |-- DietaryRestrictions: string (nullable = true)\n",
      " |    |-- DogsAllowed: string (nullable = true)\n",
      " |    |-- DriveThru: string (nullable = true)\n",
      " |    |-- GoodForDancing: string (nullable = true)\n",
      " |    |-- GoodForKids: string (nullable = true)\n",
      " |    |-- GoodForMeal: string (nullable = true)\n",
      " |    |-- HairSpecializesIn: string (nullable = true)\n",
      " |    |-- HappyHour: string (nullable = true)\n",
      " |    |-- HasTV: string (nullable = true)\n",
      " |    |-- Music: string (nullable = true)\n",
      " |    |-- NoiseLevel: string (nullable = true)\n",
      " |    |-- Open24Hours: string (nullable = true)\n",
      " |    |-- OutdoorSeating: string (nullable = true)\n",
      " |    |-- RestaurantsAttire: string (nullable = true)\n",
      " |    |-- RestaurantsCounterService: string (nullable = true)\n",
      " |    |-- RestaurantsDelivery: string (nullable = true)\n",
      " |    |-- RestaurantsGoodForGroups: string (nullable = true)\n",
      " |    |-- RestaurantsPriceRange2: string (nullable = true)\n",
      " |    |-- RestaurantsReservations: string (nullable = true)\n",
      " |    |-- RestaurantsTableService: string (nullable = true)\n",
      " |    |-- RestaurantsTakeOut: string (nullable = true)\n",
      " |    |-- Smoking: string (nullable = true)\n",
      " |    |-- WheelchairAccessible: string (nullable = true)\n",
      " |    |-- WiFi: string (nullable = true)\n",
      " |-- business_id: string (nullable = true)\n",
      " |-- categories: string (nullable = true)\n",
      " |-- city: string (nullable = true)\n",
      " |-- hours: struct (nullable = true)\n",
      " |    |-- Friday: string (nullable = true)\n",
      " |    |-- Monday: string (nullable = true)\n",
      " |    |-- Saturday: string (nullable = true)\n",
      " |    |-- Sunday: string (nullable = true)\n",
      " |    |-- Thursday: string (nullable = true)\n",
      " |    |-- Tuesday: string (nullable = true)\n",
      " |    |-- Wednesday: string (nullable = true)\n",
      " |-- is_open: long (nullable = true)\n",
      " |-- latitude: double (nullable = true)\n",
      " |-- longitude: double (nullable = true)\n",
      " |-- name: string (nullable = true)\n",
      " |-- postal_code: string (nullable = true)\n",
      " |-- review_count: long (nullable = true)\n",
      " |-- stars: double (nullable = true)\n",
      " |-- state: string (nullable = true)\n",
      "\n"
     ]
    },
    {
     "name": "stderr",
     "output_type": "stream",
     "text": [
      "                                                                                \r"
     ]
    },
    {
     "name": "stdout",
     "output_type": "stream",
     "text": [
      "root\n",
      " |-- average_stars: double (nullable = true)\n",
      " |-- compliment_cool: long (nullable = true)\n",
      " |-- compliment_cute: long (nullable = true)\n",
      " |-- compliment_funny: long (nullable = true)\n",
      " |-- compliment_hot: long (nullable = true)\n",
      " |-- compliment_list: long (nullable = true)\n",
      " |-- compliment_more: long (nullable = true)\n",
      " |-- compliment_note: long (nullable = true)\n",
      " |-- compliment_photos: long (nullable = true)\n",
      " |-- compliment_plain: long (nullable = true)\n",
      " |-- compliment_profile: long (nullable = true)\n",
      " |-- compliment_writer: long (nullable = true)\n",
      " |-- cool: long (nullable = true)\n",
      " |-- elite: string (nullable = true)\n",
      " |-- fans: long (nullable = true)\n",
      " |-- friends: string (nullable = true)\n",
      " |-- funny: long (nullable = true)\n",
      " |-- name: string (nullable = true)\n",
      " |-- review_count: long (nullable = true)\n",
      " |-- useful: long (nullable = true)\n",
      " |-- user_id: string (nullable = true)\n",
      " |-- yelping_since: string (nullable = true)\n",
      "\n"
     ]
    },
    {
     "name": "stderr",
     "output_type": "stream",
     "text": [
      "[Stage 3:=======================================================> (39 + 1) / 40]\r"
     ]
    },
    {
     "name": "stdout",
     "output_type": "stream",
     "text": [
      "root\n",
      " |-- business_id: string (nullable = true)\n",
      " |-- cool: long (nullable = true)\n",
      " |-- date: string (nullable = true)\n",
      " |-- funny: long (nullable = true)\n",
      " |-- review_id: string (nullable = true)\n",
      " |-- stars: double (nullable = true)\n",
      " |-- text: string (nullable = true)\n",
      " |-- useful: long (nullable = true)\n",
      " |-- user_id: string (nullable = true)\n",
      "\n"
     ]
    },
    {
     "name": "stderr",
     "output_type": "stream",
     "text": [
      "                                                                                \r"
     ]
    }
   ],
   "source": [
    "df = spark\\\n",
    ".read\\\n",
    ".json(\"/Users/esakkimuthumurugan/Downloads/yelp_academic_dataset_business 2.json\")\n",
    "df.show()\n",
    "df.printSchema()\n",
    "\n",
    "df1 = spark\\\n",
    ".read\\\n",
    ".json(\"/Users/esakkimuthumurugan/Downloads/yelp_academic_dataset_user.json\")\n",
    "df1.printSchema()\n",
    "\n",
    "\n",
    "df3=spark\\\n",
    ".read\\\n",
    ".json('/Users/esakkimuthumurugan/Downloads/yelp_academic_dataset_review.json')\n",
    "df3.printSchema()"
   ]
  },
  {
   "cell_type": "code",
   "execution_count": 5,
   "id": "13f05a04",
   "metadata": {},
   "outputs": [],
   "source": [
    "business_schema =StructType([\n",
    "    StructField('attributes',\n",
    "                StructType([\n",
    "                    StructField('ByAppointmentOnly',StringType()),\n",
    "                    StructField('AcceptsInsurance',StringType()),\n",
    "                    StructField('AgesAllowed',StringType()),\n",
    "                    StructField('Alcohol',StringType()),\n",
    "                    StructField('Ambience',StringType()),\n",
    "                    StructField('BYOB',StringType()),\n",
    "                    StructField('BYOBCorkage',StringType()),\n",
    "                    StructField('BestNights',StringType()),\n",
    "                    StructField('BikeParking',StringType()),\n",
    "                    StructField('BusinessAcceptsBitcoin',StringType()),\n",
    "                    StructField('BusinessAcceptsCreditCards',StringType()),\n",
    "                    StructField('BusinessParking',StringType()),\n",
    "                    StructField('Caters',StringType()),\n",
    "                    StructField('CoatCheck',StringType()),\n",
    "                    StructField('Corkage',StringType()),\n",
    "                    StructField('DietaryRestrictions',StringType()),\n",
    "                    StructField('DogsAllowed',StringType()),\n",
    "                    StructField('DriveThru',StringType()),\n",
    "                    StructField('GoodForDancing',StringType()),\n",
    "                    StructField('GoodForKids',StringType()),\n",
    "                    StructField('GoodForMeal',StringType()),\n",
    "                    StructField('HairSpecializesIn',StringType()),\n",
    "                    StructField('HappyHour',StringType()),\n",
    "                    StructField('HasTV',StringType()),\n",
    "                    StructField('Music',StringType()),\n",
    "                    StructField('NoiseLevel',StringType()),\n",
    "                    StructField('Open24Hours',StringType()),\n",
    "                    StructField('OutdoorSeating',StringType()),\n",
    "                    StructField('RestaurantsAttire',StringType()),\n",
    "                    StructField('RestaurantsCounterService',StringType()),\n",
    "                    StructField('RestaurantsDelivery',StringType()),\n",
    "                    StructField('RestaurantsGoodForGroups',StringType()),\n",
    "                    StructField('RestaurantsPriceRange2',StringType()),\n",
    "                    StructField('RestaurantsReservations',StringType()),\n",
    "                    StructField('RestaurantsTableService',StringType()),\n",
    "                    StructField('RestaurantsTakeOut',StringType()),\n",
    "                    StructField('Smoking',StringType()),\n",
    "                    StructField('WheelchairAccessible',StringType()),\n",
    "                    StructField('WiFi',StringType()),\n",
    "                ])),\n",
    "    StructField('business_id',StringType()),\n",
    "    StructField('name',StringType()),\n",
    "    StructField('address',StringType()),\n",
    "    StructField('city',StringType()),\n",
    "    StructField('state',StringType()),\n",
    "    StructField('postal_code',StringType()),\n",
    "    StructField('latitude',DoubleType()),\n",
    "    StructField('longitude',DoubleType()),\n",
    "    StructField('stars',DoubleType()),\n",
    "    StructField('review_count',IntegerType()),\n",
    "    StructField('is_open',IntegerType()),\n",
    "    \n",
    "    StructField('categories',StringType()),\n",
    "    StructField('hours',StructType([\n",
    "        StructField('Monday',StringType()),\n",
    "        StructField('Thusday',StringType()),\n",
    "        StructField('Wednesday',StringType()),\n",
    "        StructField('Thursday',StringType()),\n",
    "        StructField('Friday',StringType()),\n",
    "        StructField('Saturday',StringType()),     \n",
    "    ]))  \n",
    "])\n",
    "\n",
    "\n",
    "user_schema = StructType([\n",
    "StructField('user_id',StringType()),\n",
    "StructField('name',StringType()),\n",
    "StructField('review_count',IntegerType()),\n",
    "StructField('yelping_since',DateType()),\n",
    "StructField('useful',IntegerType()),\n",
    "StructField('funny',IntegerType()),\n",
    "StructField('cool',IntegerType()),\n",
    "StructField('elite',DateType()),\n",
    "StructField('friends',StringType()),\n",
    "StructField('fans',LongType()),\n",
    "StructField('average_stars',DoubleType()),\n",
    "StructField('compliment_cool',LongType()),\n",
    "StructField('compliment_cute',LongType()),\n",
    "StructField('compliment_funny',LongType()),\n",
    "StructField('compliment_hot',LongType()),\n",
    "StructField('compliment_list',LongType()),\n",
    "StructField('compliment_more',LongType()),\n",
    "StructField('compliment_note',LongType()),\n",
    "StructField('compliment_photos',LongType()),\n",
    "StructField('compliment_plain',LongType()),\n",
    "StructField('compliment_profile',LongType()),\n",
    "StructField('compliment_writer',LongType()),\n",
    "])\n",
    "\n",
    "review_schema = StructType([\n",
    "    StructField('business_id',StringType()),\n",
    "    StructField('user_id',StringType()),\n",
    "    StructField('review_id',StringType()),\n",
    "    StructField('date',DateType()),\n",
    "    StructField('funny',LongType()),\n",
    "    StructField('cool',LongType()),\n",
    "    StructField('text',StringType()),\n",
    "    StructField('stars',DoubleType()),\n",
    "    StructField('useful',LongType()),   \n",
    "])"
   ]
  },
  {
   "cell_type": "code",
   "execution_count": 6,
   "id": "a6a381e2",
   "metadata": {},
   "outputs": [
    {
     "name": "stdout",
     "output_type": "stream",
     "text": [
      "root\n",
      " |-- attributes: struct (nullable = true)\n",
      " |    |-- ByAppointmentOnly: string (nullable = true)\n",
      " |    |-- AcceptsInsurance: string (nullable = true)\n",
      " |    |-- AgesAllowed: string (nullable = true)\n",
      " |    |-- Alcohol: string (nullable = true)\n",
      " |    |-- Ambience: string (nullable = true)\n",
      " |    |-- BYOB: string (nullable = true)\n",
      " |    |-- BYOBCorkage: string (nullable = true)\n",
      " |    |-- BestNights: string (nullable = true)\n",
      " |    |-- BikeParking: string (nullable = true)\n",
      " |    |-- BusinessAcceptsBitcoin: string (nullable = true)\n",
      " |    |-- BusinessAcceptsCreditCards: string (nullable = true)\n",
      " |    |-- BusinessParking: string (nullable = true)\n",
      " |    |-- Caters: string (nullable = true)\n",
      " |    |-- CoatCheck: string (nullable = true)\n",
      " |    |-- Corkage: string (nullable = true)\n",
      " |    |-- DietaryRestrictions: string (nullable = true)\n",
      " |    |-- DogsAllowed: string (nullable = true)\n",
      " |    |-- DriveThru: string (nullable = true)\n",
      " |    |-- GoodForDancing: string (nullable = true)\n",
      " |    |-- GoodForKids: string (nullable = true)\n",
      " |    |-- GoodForMeal: string (nullable = true)\n",
      " |    |-- HairSpecializesIn: string (nullable = true)\n",
      " |    |-- HappyHour: string (nullable = true)\n",
      " |    |-- HasTV: string (nullable = true)\n",
      " |    |-- Music: string (nullable = true)\n",
      " |    |-- NoiseLevel: string (nullable = true)\n",
      " |    |-- Open24Hours: string (nullable = true)\n",
      " |    |-- OutdoorSeating: string (nullable = true)\n",
      " |    |-- RestaurantsAttire: string (nullable = true)\n",
      " |    |-- RestaurantsCounterService: string (nullable = true)\n",
      " |    |-- RestaurantsDelivery: string (nullable = true)\n",
      " |    |-- RestaurantsGoodForGroups: string (nullable = true)\n",
      " |    |-- RestaurantsPriceRange2: string (nullable = true)\n",
      " |    |-- RestaurantsReservations: string (nullable = true)\n",
      " |    |-- RestaurantsTableService: string (nullable = true)\n",
      " |    |-- RestaurantsTakeOut: string (nullable = true)\n",
      " |    |-- Smoking: string (nullable = true)\n",
      " |    |-- WheelchairAccessible: string (nullable = true)\n",
      " |    |-- WiFi: string (nullable = true)\n",
      " |-- business_id: string (nullable = true)\n",
      " |-- name: string (nullable = true)\n",
      " |-- address: string (nullable = true)\n",
      " |-- city: string (nullable = true)\n",
      " |-- state: string (nullable = true)\n",
      " |-- postal_code: string (nullable = true)\n",
      " |-- latitude: double (nullable = true)\n",
      " |-- longitude: double (nullable = true)\n",
      " |-- stars: double (nullable = true)\n",
      " |-- review_count: integer (nullable = true)\n",
      " |-- is_open: integer (nullable = true)\n",
      " |-- categories: string (nullable = true)\n",
      " |-- hours: struct (nullable = true)\n",
      " |    |-- Monday: string (nullable = true)\n",
      " |    |-- Thusday: string (nullable = true)\n",
      " |    |-- Wednesday: string (nullable = true)\n",
      " |    |-- Thursday: string (nullable = true)\n",
      " |    |-- Friday: string (nullable = true)\n",
      " |    |-- Saturday: string (nullable = true)\n",
      "\n",
      "+--------------------+--------------------+--------------------+--------------------+--------------+-----+-----------+-------------+--------------+-----+------------+-------+--------------------+--------------------+\n",
      "|          attributes|         business_id|                name|             address|          city|state|postal_code|     latitude|     longitude|stars|review_count|is_open|          categories|               hours|\n",
      "+--------------------+--------------------+--------------------+--------------------+--------------+-----+-----------+-------------+--------------+-----+------------+-------+--------------------+--------------------+\n",
      "|{True, null, null...|Pns2l4eNsfO8kk83d...|Abby Rappoport, L...|1616 Chapala St, ...| Santa Barbara|   CA|      93101|   34.4266787|  -119.7111968|  5.0|           7|      0|Doctors, Traditio...|                null|\n",
      "|{null, null, null...|mpf3x-BjTdTEA3yCZ...|       The UPS Store|87 Grasso Plaza S...|        Affton|   MO|      63123|    38.551126|    -90.335695|  3.0|          15|      1|Shipping Centers,...|{0:0-0:0, null, 8...|\n",
      "|{False, null, nul...|tUFrWirKiKi_TAnsV...|              Target|5255 E Broadway Blvd|        Tucson|   AZ|      85711|    32.223236|   -110.880452|  3.5|          22|      0|Department Stores...|{8:0-22:0, null, ...|\n",
      "|{False, null, nul...|MTSW4McQd7CbVtyjq...|  St Honore Pastries|         935 Race St|  Philadelphia|   PA|      19107|   39.9555052|   -75.1555641|  4.0|          80|      1|Restaurants, Food...|{7:0-20:0, null, ...|\n",
      "|{null, null, null...|mWMc6_wTdE0EUBKIG...|Perkiomen Valley ...|       101 Walnut St|    Green Lane|   PA|      18054|   40.3381827|   -75.4716585|  4.5|          13|      1|Brewpubs, Breweri...|{null, null, 14:0...|\n",
      "|{False, null, nul...|CF33F8-E6oudUQ46H...|      Sonic Drive-In|       615 S Main St|  Ashland City|   TN|      37015|    36.269593|    -87.058943|  2.0|           6|      1|Burgers, Fast Foo...|{0:0-0:0, null, 6...|\n",
      "|{null, null, null...|n_0UpQx1hsNbnPUSl...|     Famous Footwear|8522 Eager Road, ...|     Brentwood|   MO|      63144|    38.627695|    -90.340465|  2.5|          13|      1|Sporting Goods, F...|{0:0-0:0, null, 1...|\n",
      "|                null|qkRM_2X51Yqxk3btl...|      Temple Beth-El|  400 Pasadena Ave S|St. Petersburg|   FL|      33707|     27.76659|    -82.732983|  3.5|           5|      1|Synagogues, Relig...|{9:0-17:0, null, ...|\n",
      "|{null, null, null...|k0hlBqXX-Bt0vf1op...|Tsevi's Pub And G...|   8025 Mackenzie Rd|        Affton|   MO|      63123|   38.5651648|   -90.3210868|  3.0|          19|      0|Pubs, Restaurants...|                null|\n",
      "|{False, null, nul...|bBDDEgkFA1Otx9Lfe...|      Sonic Drive-In| 2312 Dickerson Pike|     Nashville|   TN|      37207|   36.2081024|   -86.7681696|  1.5|          10|      1|Ice Cream & Froze...|{0:0-0:0, null, 6...|\n",
      "|{null, null, null...|UJsufbvfyfONHeWdv...|           Marshalls|21705 Village Lak...| Land O' Lakes|   FL|      34639|28.1904587953|-82.4573802199|  3.5|           6|      1|Department Stores...|{9:30-21:30, null...|\n",
      "|{null, null, null...|eEOYSgkmpB90uNA7l...|Vietnamese Food T...|                    |     Tampa Bay|   FL|      33602|   27.9552692|   -82.4563199|  4.0|          10|      1|Vietnamese, Food,...|{11:0-14:0, null,...|\n",
      "|{null, null, null...|il_Ro8jwPlHresjw9...|             Denny's|        8901 US 31 S|  Indianapolis|   IN|      46227|39.6371332838| -86.127217412|  2.5|          28|      1|American (Traditi...|{6:0-22:0, null, ...|\n",
      "|{True, null, null...|jaxMSoInw8Poo3XeM...|        Adams Dental|   15 N Missouri Ave|    Clearwater|   FL|      33755|    27.966235|    -82.787412|  5.0|          10|      1|General Dentistry...|{7:30-15:30, null...|\n",
      "|{null, null, null...|0bPLkL0QhhPO5kt1_...|Zio's Italian Market|       2575 E Bay Dr|         Largo|   FL|      33771|   27.9161159|   -82.7604608|  4.5|         100|      0|Food, Delis, Ital...|{10:0-18:0, null,...|\n",
      "|{null, null, null...|MUTTqe8uqyMdBl186...|            Tuna Bar|         205 Race St|  Philadelphia|   PA|      19106|    39.953949|   -75.1432262|  4.0|         245|      1|Sushi Bars, Resta...|{null, null, 13:3...|\n",
      "|{False, null, nul...|rBmpy_Y1UbBx8ggHl...|Arizona Truck Out...|     625 N Stone Ave|        Tucson|   AZ|      85705|   32.2298719|  -110.9723419|  4.5|          10|      1|Automotive, Auto ...|{0:0-0:0, null, 8...|\n",
      "|{null, null, null...|M0XSSHqrASOnhgbWD...|      Herb Import Co|        712 Adams St|   New Orleans|   LA|      70118|29.9414679565| -90.129952757|  4.0|           5|      1|Vape Shops, Tobac...|{10:0-19:0, null,...|\n",
      "|                null|8wGISYjYkE2tSqn3c...|    Nifty Car Rental|     1241 Airline Dr|        Kenner|   LA|      70062|    29.981183|   -90.2540123|  3.5|          14|      1|Automotive, Car R...|{8:0-17:0, null, ...|\n",
      "|{null, null, null...|ROeacJQwBeh05Rqg7...|                 BAP|       1224 South St|  Philadelphia|   PA|      19147|    39.943223|    -75.162568|  4.5|         205|      1| Korean, Restaurants|{11:30-20:30, nul...|\n",
      "+--------------------+--------------------+--------------------+--------------------+--------------+-----+-----------+-------------+--------------+-----+------------+-------+--------------------+--------------------+\n",
      "only showing top 20 rows\n",
      "\n",
      "root\n",
      " |-- user_id: string (nullable = true)\n",
      " |-- name: string (nullable = true)\n",
      " |-- review_count: integer (nullable = true)\n",
      " |-- yelping_since: date (nullable = true)\n",
      " |-- useful: integer (nullable = true)\n",
      " |-- funny: integer (nullable = true)\n",
      " |-- cool: integer (nullable = true)\n",
      " |-- elite: date (nullable = true)\n",
      " |-- friends: string (nullable = true)\n",
      " |-- fans: long (nullable = true)\n",
      " |-- average_stars: double (nullable = true)\n",
      " |-- compliment_cool: long (nullable = true)\n",
      " |-- compliment_cute: long (nullable = true)\n",
      " |-- compliment_funny: long (nullable = true)\n",
      " |-- compliment_hot: long (nullable = true)\n",
      " |-- compliment_list: long (nullable = true)\n",
      " |-- compliment_more: long (nullable = true)\n",
      " |-- compliment_note: long (nullable = true)\n",
      " |-- compliment_photos: long (nullable = true)\n",
      " |-- compliment_plain: long (nullable = true)\n",
      " |-- compliment_profile: long (nullable = true)\n",
      " |-- compliment_writer: long (nullable = true)\n",
      "\n"
     ]
    },
    {
     "name": "stderr",
     "output_type": "stream",
     "text": [
      "                                                                                \r"
     ]
    },
    {
     "name": "stdout",
     "output_type": "stream",
     "text": [
      "+--------------------+---------+------------+-------------+------+-----+-----+----------+--------------------+----+-------------+---------------+---------------+----------------+--------------+---------------+---------------+---------------+-----------------+----------------+------------------+-----------------+\n",
      "|             user_id|     name|review_count|yelping_since|useful|funny| cool|     elite|             friends|fans|average_stars|compliment_cool|compliment_cute|compliment_funny|compliment_hot|compliment_list|compliment_more|compliment_note|compliment_photos|compliment_plain|compliment_profile|compliment_writer|\n",
      "+--------------------+---------+------------+-------------+------+-----+-----+----------+--------------------+----+-------------+---------------+---------------+----------------+--------------+---------------+---------------+---------------+-----------------+----------------+------------------+-----------------+\n",
      "|qVc8ODYU5SZjKXVBg...|   Walker|         585|   2007-01-25|  7217| 1259| 5994|2007-01-01|NSCy54eWehBJyZdG2...| 267|         3.91|            467|             56|             467|           250|             18|             65|            232|              180|             844|                55|              239|\n",
      "|j14WgRoU_-2ZE1aw1...|   Daniel|        4333|   2009-01-25| 43091|13066|27281|      null|ueRPE0CX75ePGMqOF...|3138|         3.74|           3131|            157|            3131|          1145|            251|            264|           1847|             1946|            7054|               184|             1521|\n",
      "|2WnXYQFK0hXEoTxPt...|    Steph|         665|   2008-07-25|  2086| 1010| 1003|      null|LuO3Bn4f3rlhyHIaN...|  52|         3.32|            119|             17|             119|            89|              3|             13|             66|               18|              96|                10|               35|\n",
      "|SZDeASXq7o05mMNLs...|     Gwen|         224|   2005-11-29|   512|  330|  299|      null|enx1vVPnfdNUdPho6...|  28|         4.27|             26|              6|              26|            24|              2|              4|             12|                9|              16|                 1|               10|\n",
      "|hA5lMy-EnncsH4JoR...|    Karen|          79|   2007-01-05|    29|   15|    7|      null|PBK4q9KEEBHhFvSXC...|   1|         3.54|              0|              0|               0|             1|              0|              1|              1|                0|               1|                 0|                0|\n",
      "|q_QQ5kBBwlCcbL1s4...|     Jane|        1221|   2005-03-14| 14953| 9940|11211|      null|xBDpTUbai0DXrvxCe...|1357|         3.85|           2543|            361|            2543|          1713|            147|            163|           1212|              323|            5696|               191|              815|\n",
      "|cxuxXkcihfCbqt5By...|      Rob|          12|   2009-02-24|     6|    1|    0|      null|HDAQ74AEznP-YsMk1...|   1|         2.75|              0|              0|               0|             0|              0|              0|              0|                0|               1|                 0|                0|\n",
      "|E9kcWJdJUHuTKfQur...|     Mike|         358|   2008-12-11|   399|  102|  143|      null|y2GyxJF5VQWohxgw_...|  23|         3.73|             12|              0|              12|             4|              0|              7|              8|                0|               6|                 2|                5|\n",
      "|lO1iq-f75hnPNZkTy...| Rachelle|          40|   2008-12-29|   109|   40|   46|      null|tOQDlz36rI__SOsbL...|   7|         4.04|              5|              3|               5|             2|              0|              0|              3|                1|               4|                 0|                3|\n",
      "|AUi8MPWJ0mLkMfwbu...|     John|         109|   2010-01-07|   154|   20|   23|      null|gy5fWeSv3Gamuq9Ox...|   4|          3.4|              3|              0|               3|             0|              0|              0|              1|                0|               6|                 0|                0|\n",
      "|iYzhPPqnrjJkg1JHZ...|    Chris|           4|   2010-11-03|     1|    0|    1|      null|Vq4Pc81l6MWTnc-h4...|   1|          4.0|              0|              0|               0|             0|              0|              0|              0|                0|               0|                 0|                0|\n",
      "|xoZvMJPDW6Q9pDAXI...|     Ryan|         535|   2009-05-27|  1130|  487|  573|      null|6tbXpUIU6upoeqWND...|  31|         3.89|             36|              3|              36|            23|              5|              9|             31|                7|              41|                 1|               24|\n",
      "|vVukUtqoLF5BvH_Vt...| Charlene|          37|   2011-01-29|    63|    3|   27|      null|zkK6c9BcDyqreU0fq...|   4|         4.51|              0|              0|               0|             4|              0|              0|              1|                0|               5|                 0|                1|\n",
      "|_crIokUeTCHVK_JVO...|    Kenny|          11|   2009-10-07|    30|    3|    0|      null|f0mdrhyxVZ0TsFZD5...|   0|         3.08|              0|              0|               0|             0|              0|              0|              0|                0|               0|                 0|                0|\n",
      "|1McG5Rn_UDkmlkZOr...|   Teresa|           7|   2009-05-26|    18|    3|   13|      null|piejMEdRkGB7-1aL4...|   1|         4.29|              2|              0|               2|             1|              0|              0|              1|                0|               0|                 0|                0|\n",
      "|SgiBkhXeqIKl1PlFp...|   Eugene|         682|   2006-08-25|  1819| 1138| 1297|      null|j3MBGSLaXMlhLZNeA...|  44|         3.75|            221|             22|             221|           212|             34|             17|             67|               17|             158|                17|               45|\n",
      "|fJZO_skqpnhk1kvom...| Jennifer|          25|   2008-07-14|    29|    2|   19|      null|hJiJzw6obCmbGAfwr...|   1|         4.15|              2|              0|               2|             0|              0|              1|              6|                0|               2|                 0|                1|\n",
      "|x7YtLnBW2dUnrrpwa...|  Ronskee|          37|   2010-05-06|    56|   29|   29|      null|EPBLDry-ObheloH-N...|   9|         3.84|             66|              0|              66|            15|              0|              1|             12|               12|              33|                 0|                1|\n",
      "|QF1Kuhs8iwLWANNZx...|Catherine|         607|   2009-04-27|  4573| 3714| 4149|      null|dLts9bY66tXEFqYG0...| 131|         4.11|            808|             29|             808|          1020|             23|             79|            144|              723|             407|                68|              587|\n",
      "|VcLRGCG_VbAo8MxOm...|       AJ|         133|   2009-07-11|   201|   52|   44|      null|Ynu2Z2L8Wv2fbTwQ_...|   4|          3.6|              0|              0|               0|             1|              0|              0|              2|                0|               4|                 0|                1|\n",
      "+--------------------+---------+------------+-------------+------+-----+-----+----------+--------------------+----+-------------+---------------+---------------+----------------+--------------+---------------+---------------+---------------+-----------------+----------------+------------------+-----------------+\n",
      "only showing top 20 rows\n",
      "\n",
      "root\n",
      " |-- business_id: string (nullable = true)\n",
      " |-- user_id: string (nullable = true)\n",
      " |-- review_id: string (nullable = true)\n",
      " |-- date: date (nullable = true)\n",
      " |-- funny: long (nullable = true)\n",
      " |-- cool: long (nullable = true)\n",
      " |-- text: string (nullable = true)\n",
      " |-- stars: double (nullable = true)\n",
      " |-- useful: long (nullable = true)\n",
      "\n",
      "+--------------------+--------------------+--------------------+----------+-----+----+--------------------+-----+------+\n",
      "|         business_id|             user_id|           review_id|      date|funny|cool|                text|stars|useful|\n",
      "+--------------------+--------------------+--------------------+----------+-----+----+--------------------+-----+------+\n",
      "|XQfwVwDr-v0ZS3_Cb...|mh_-eMZ6K5RLWhZyI...|KU_O5udG6zpxOg-Vc...|2018-07-07|    0|   0|If you decide to ...|  3.0|     0|\n",
      "|7ATYjTIgM3jUlt4UM...|OyoGAe7OKpv6SyGZT...|BiTunyQ73aT9WBnpR...|2012-01-03|    0|   1|I've taken a lot ...|  5.0|     1|\n",
      "|YjUWPpI6HXG530lwP...|8g_iMtfSiwikVnbP2...|saUsX_uimxRlCVr67...|2014-02-05|    0|   0|Family diner. Had...|  3.0|     0|\n",
      "|kxX2SOes4o-D3ZQBk...|_7bHUi9Uuf5__HHc_...|AqPFMleE6RsU23_au...|2015-01-04|    0|   1|Wow!  Yummy, diff...|  5.0|     1|\n",
      "|e4Vwtrqf-wpJfwesg...|bcjbaE6dDog4jkNY9...|Sx8TMOWLNuJBWer-0...|2017-01-14|    0|   1|Cute interior and...|  4.0|     1|\n",
      "|04UD14gamNjLY0IDY...|eUta8W_HdHMXPzLBB...|JrIxlS1TzJ-iCu79u...|2015-09-23|    2|   1|I am a long term ...|  1.0|     1|\n",
      "|gmjsEdUsKpj9Xxu6p...|r3zeYsv1XFBRA4dJp...|6AxgBCNX_PNTOxmbR...|2015-01-03|    2|   0|Loved this tour! ...|  5.0|     0|\n",
      "|LHSTtnW3YHCeUkRDG...|yfFzsLmaWF2d4Sr0U...|_ZeMknuYdlQcUqng_...|2015-08-07|    0|   0|Amazingly amazing...|  5.0|     2|\n",
      "|B5XSoSG3SfvQGtKEG...|wSTuiTk-sKNdcFypr...|ZKvDG2sBvHVdF5oBN...|2016-03-30|    1|   0|This easter inste...|  3.0|     1|\n",
      "|gebiRewfieSdtt17P...|59MxRhNVhU9MYndMk...|pUycOfUwM8vqX7KjR...|2016-07-25|    0|   0|Had a party of 6 ...|  3.0|     0|\n",
      "|uMvVYRgGNXf5boolA...|1WHRWwQmZOZDAhp2Q...|rGQRf8UafX7OTlMNN...|2015-06-21|    0|   0|My experience wit...|  5.0|     2|\n",
      "|EQ-TZ2eeD_E0BHuvo...|ZbqSHbgCjzVAqaa7N...|l3Wk_mvAog6XANIuG...|2015-08-19|    0|   0|Locals recommende...|  4.0|     0|\n",
      "|lj-E32x9_FA7GmUrB...|9OAtfnWag-ajVxRbU...|XW_LfMv0fV21l9c6x...|2014-06-27|    0|   0|Love going here f...|  4.0|     0|\n",
      "|RZtGWDLCAtuipwaZ-...|smOvOajNG0lS4Pq7d...|8JFGBuHMoiNDyfcxu...|2009-10-14|    0|   0|Good food--loved ...|  4.0|     0|\n",
      "|otQS34_MymijPTdNB...|4Uh27DgGzsp6PqrH9...|UBp0zWyH60Hmw6Fsa...|2011-10-27|    2|   0|The bun makes the...|  4.0|     0|\n",
      "|BVndHaLihEYbr76Z0...|1C2lxzUo1Hyye4RFI...|OAhBYw8IQ6wlfw1ow...|2014-10-11|    0|   0|Great place for b...|  5.0|     0|\n",
      "|YtSqYv1Q_pOltsVPS...|Dd1jQj7S-BFGqRbAp...|oyaMhzBSwfGgemSGu...|2013-06-24|    0|   0|Tremendous servic...|  5.0|     0|\n",
      "|rBdG_23USc7DletfZ...|j2wlzrntrbKwyOcOi...|LnGZB0fjfgeVDVz5I...|2014-08-10|    0|   0|The hubby and I h...|  4.0|     1|\n",
      "|CLEWowfkj-wKYJlQD...|NDZvyYHTUWWu-kqgQ...|u2vzZaOqJ2feRshaa...|2016-03-07|    0|   1|I go to blow bar ...|  5.0|     2|\n",
      "|eFvzHawVJofxSnD7T...|IQsF3Rc6IgCzjVV9D...|Xs8Z8lmKkosqW5mw_...|2014-11-12|    0|   0|My absolute favor...|  5.0|     0|\n",
      "+--------------------+--------------------+--------------------+----------+-----+----+--------------------+-----+------+\n",
      "only showing top 20 rows\n",
      "\n"
     ]
    }
   ],
   "source": [
    "df_business = spark\\\n",
    ".read\\\n",
    ".schema(business_schema)\\\n",
    ".json(\"/Users/esakkimuthumurugan/Downloads/yelp_academic_dataset_business.json\")\n",
    "df_business.printSchema()\n",
    "df_business.show()\n",
    "\n",
    "df_user =spark\\\n",
    ".read\\\n",
    ".schema(user_schema)\\\n",
    ".json('/Users/esakkimuthumurugan/Downloads/yelp_academic_dataset_user.json')\n",
    "df_user.printSchema()\n",
    "df_user.show()\n",
    "\n",
    "df_review=spark\\\n",
    ".read\\\n",
    ".schema(review_schema)\\\n",
    ".json('/Users/esakkimuthumurugan/Downloads/yelp_academic_dataset_review.json')\n",
    "df_review.printSchema()\n",
    "df_review.show()"
   ]
  },
  {
   "cell_type": "code",
   "execution_count": 8,
   "id": "ac354707",
   "metadata": {},
   "outputs": [],
   "source": [
    "df_business = df_business.withColumn(\"categories\", explode(split(\"categories\", \", \")))\n",
    "\n",
    "df_business_csv = df_business.withColumn(\"attributes\", col(\"attributes\").cast(\"string\"))\n",
    "df_business_csv = df_business_csv.withColumn(\"hours\", col(\"hours\").cast(\"string\"))\n"
   ]
  },
  {
   "cell_type": "code",
   "execution_count": 32,
   "id": "9bda2aa6",
   "metadata": {},
   "outputs": [
    {
     "name": "stderr",
     "output_type": "stream",
     "text": [
      "                                                                                \r"
     ]
    }
   ],
   "source": [
    "#with the defined schema read the json and write into CSV format.\n",
    "df_business_csv.coalesce(1).write.csv('/Users/esakkimuthumurugan/Documents/tasks/task6/bussiness',header=True)"
   ]
  },
  {
   "cell_type": "code",
   "execution_count": 12,
   "id": "06e73ffd",
   "metadata": {},
   "outputs": [
    {
     "name": "stderr",
     "output_type": "stream",
     "text": [
      "                                                                                \r"
     ]
    }
   ],
   "source": [
    "df_user.coalesce(1).write.csv('/Users/esakkimuthumurugan/Documents/tasks/task6/user',header=True)\n",
    "df_review.coalesce(1).write.option('header','true').csv(\"/Users/esakkimuthumurugan/Documents/tasks/task6/review\",header=True)"
   ]
  },
  {
   "cell_type": "code",
   "execution_count": 9,
   "id": "8e8e9b2d",
   "metadata": {},
   "outputs": [],
   "source": [
    "# Selecting only required Columns\n",
    "\n",
    "df_business = df_business.select(\"business_id\",\"name\",\"attributes\",\"categories\",\"city\",\"review_count\",\"stars\")\n",
    "df_review = df_review.select(\"business_id\",\"user_id\",\"stars\")\n",
    "df_user = df_user.select(\"user_id\",\"name\",\"review_count\")\n",
    "\n"
   ]
  },
  {
   "cell_type": "code",
   "execution_count": 10,
   "id": "0cb85946",
   "metadata": {},
   "outputs": [],
   "source": [
    "# Renaming Column\n",
    "\n",
    "df_business = df_business.withColumnRenamed('stars',\"business_stars\")\n",
    "df_business = df_business.withColumnRenamed('name',\"business_name\")\n",
    "df_business = df_business.withColumnRenamed('review_count',\"business_review_count\")\n",
    "\n",
    "\n",
    "df_review = df_review.withColumnRenamed('stars',\"review_stars\")\n",
    "\n",
    "df_user = df_user.withColumnRenamed('name',\"user_name\")\n",
    "df_user = df_user.withColumnRenamed('review_count',\"user_review_count\")"
   ]
  },
  {
   "cell_type": "code",
   "execution_count": 11,
   "id": "4a215581",
   "metadata": {},
   "outputs": [
    {
     "name": "stderr",
     "output_type": "stream",
     "text": [
      "[Stage 17:>                                                         (0 + 1) / 1]\r"
     ]
    },
    {
     "name": "stdout",
     "output_type": "stream",
     "text": [
      "+--------------------+---------+-----------------+--------------------+--------------------+--------------------+--------------------+-----------+---------------------+--------------+------------+\n",
      "|             user_id|user_name|user_review_count|         business_id|       business_name|          attributes|          categories|       city|business_review_count|business_stars|review_stars|\n",
      "+--------------------+---------+-----------------+--------------------+--------------------+--------------------+--------------------+-----------+---------------------+--------------+------------+\n",
      "|--6lqYpHZCBbpW5z2...|     Jeff|                9|mUI4DJagyUyu76qnR...|Champions Sports Bar|{null, null, null...|         Restaurants|      Tampa|                   97|           3.0|         1.0|\n",
      "|--6lqYpHZCBbpW5z2...|     Jeff|                9|mUI4DJagyUyu76qnR...|Champions Sports Bar|{null, null, null...|                Bars|      Tampa|                   97|           3.0|         1.0|\n",
      "|--6lqYpHZCBbpW5z2...|     Jeff|                9|mUI4DJagyUyu76qnR...|Champions Sports Bar|{null, null, null...|             Burgers|      Tampa|                   97|           3.0|         1.0|\n",
      "|--6lqYpHZCBbpW5z2...|     Jeff|                9|mUI4DJagyUyu76qnR...|Champions Sports Bar|{null, null, null...|         Sports Bars|      Tampa|                   97|           3.0|         1.0|\n",
      "|--6lqYpHZCBbpW5z2...|     Jeff|                9|mUI4DJagyUyu76qnR...|Champions Sports Bar|{null, null, null...|           Nightlife|      Tampa|                   97|           3.0|         1.0|\n",
      "|--Kwhcbkh7jxkhVVQ...|     Larz|               58|arQfMJal1tl67Z96R...|Claim Jumper Stea...|{null, null, null...|         Steakhouses|  Nashville|                  347|           2.5|         4.0|\n",
      "|--Kwhcbkh7jxkhVVQ...|     Larz|               58|tIvfmgT1qMeAEQf8C...|Caney Fork River ...|{null, null, null...|                Bars|  Nashville|                  574|           3.5|         4.0|\n",
      "|--Kwhcbkh7jxkhVVQ...|     Larz|               58|arQfMJal1tl67Z96R...|Claim Jumper Stea...|{null, null, null...|American (Traditi...|  Nashville|                  347|           2.5|         4.0|\n",
      "|--Kwhcbkh7jxkhVVQ...|     Larz|               58|tIvfmgT1qMeAEQf8C...|Caney Fork River ...|{null, null, null...|           Nightlife|  Nashville|                  574|           3.5|         4.0|\n",
      "|--Kwhcbkh7jxkhVVQ...|     Larz|               58|arQfMJal1tl67Z96R...|Claim Jumper Stea...|{null, null, null...|         Restaurants|  Nashville|                  347|           2.5|         4.0|\n",
      "|--Kwhcbkh7jxkhVVQ...|     Larz|               58|tIvfmgT1qMeAEQf8C...|Caney Fork River ...|{null, null, null...|American (Traditi...|  Nashville|                  574|           3.5|         4.0|\n",
      "|--Kwhcbkh7jxkhVVQ...|     Larz|               58|arQfMJal1tl67Z96R...|Claim Jumper Stea...|{null, null, null...|                Bars|  Nashville|                  347|           2.5|         4.0|\n",
      "|--Kwhcbkh7jxkhVVQ...|     Larz|               58|tIvfmgT1qMeAEQf8C...|Caney Fork River ...|{null, null, null...|            Barbeque|  Nashville|                  574|           3.5|         4.0|\n",
      "|--Kwhcbkh7jxkhVVQ...|     Larz|               58|arQfMJal1tl67Z96R...|Claim Jumper Stea...|{null, null, null...|             Seafood|  Nashville|                  347|           2.5|         4.0|\n",
      "|--Kwhcbkh7jxkhVVQ...|     Larz|               58|tIvfmgT1qMeAEQf8C...|Caney Fork River ...|{null, null, null...|             Seafood|  Nashville|                  574|           3.5|         4.0|\n",
      "|--Kwhcbkh7jxkhVVQ...|     Larz|               58|arQfMJal1tl67Z96R...|Claim Jumper Stea...|{null, null, null...|           Nightlife|  Nashville|                  347|           2.5|         4.0|\n",
      "|--Kwhcbkh7jxkhVVQ...|     Larz|               58|tIvfmgT1qMeAEQf8C...|Caney Fork River ...|{null, null, null...|            Beer Bar|  Nashville|                  574|           3.5|         4.0|\n",
      "|--Kwhcbkh7jxkhVVQ...|     Larz|               58|Ld805G25xHALqbBo1...|National Blues Mu...|{False, null, nul...|Arts & Entertainment|Saint Louis|                   45|           4.5|         3.0|\n",
      "|--Kwhcbkh7jxkhVVQ...|     Larz|               58|tIvfmgT1qMeAEQf8C...|Caney Fork River ...|{null, null, null...|         Sports Bars|  Nashville|                  574|           3.5|         4.0|\n",
      "|--Kwhcbkh7jxkhVVQ...|     Larz|               58|Ld805G25xHALqbBo1...|National Blues Mu...|{False, null, nul...|        Music Venues|Saint Louis|                   45|           4.5|         3.0|\n",
      "+--------------------+---------+-----------------+--------------------+--------------------+--------------------+--------------------+-----------+---------------------+--------------+------------+\n",
      "only showing top 20 rows\n",
      "\n"
     ]
    },
    {
     "name": "stderr",
     "output_type": "stream",
     "text": [
      "                                                                                \r"
     ]
    }
   ],
   "source": [
    "df_business_join_review = df_business.join(df_review, on=['business_id'], how='inner')\n",
    "df_business_user_review = df_user.join(df_business_join_review, on=['user_id'], how='inner')\n",
    "\n",
    "\n",
    "df_business_user_review.show()"
   ]
  },
  {
   "cell_type": "code",
   "execution_count": 19,
   "id": "341e6ce6",
   "metadata": {},
   "outputs": [
    {
     "name": "stderr",
     "output_type": "stream",
     "text": [
      "[Stage 34:==================================================>       (7 + 1) / 8]\r"
     ]
    },
    {
     "name": "stdout",
     "output_type": "stream",
     "text": [
      "+--------------------+-----+\n",
      "|          categories|count|\n",
      "+--------------------+-----+\n",
      "|Beauty & Spas, Sk...|   89|\n",
      "|Chicken Shop, Res...|  917|\n",
      "|Restaurants, Brea...|  601|\n",
      "|Nightlife, Tours,...|  116|\n",
      "|Hotels & Travel, ...|   29|\n",
      "|Food, Seafood Mar...| 1188|\n",
      "|Restaurants, Chic...|  268|\n",
      "|Car Rental, Car D...|   37|\n",
      "|Restaurants, Viet...|  659|\n",
      "|Automotive, Truck...|   56|\n",
      "|Restaurants, Bars...|  400|\n",
      "|Automotive, Auto ...|   12|\n",
      "|Food, Latin Ameri...|   28|\n",
      "|American (New), F...|  415|\n",
      "|Event Planning & ...|  207|\n",
      "|Steakhouses, Bars...|    5|\n",
      "|Fast Food, Delis,...|   27|\n",
      "|African, Caribbea...|   75|\n",
      "|Restaurants, Amer...|   63|\n",
      "|Sushi Bars, Korea...|  127|\n",
      "+--------------------+-----+\n",
      "only showing top 20 rows\n",
      "\n"
     ]
    },
    {
     "name": "stderr",
     "output_type": "stream",
     "text": [
      "                                                                                \r"
     ]
    }
   ],
   "source": [
    "# List the categories and its record count using spark\n",
    "df_business_user_review.select(\"categories\").groupBy(\"categories\").count().show()"
   ]
  },
  {
   "cell_type": "code",
   "execution_count": 13,
   "id": "53f85ffc",
   "metadata": {},
   "outputs": [
    {
     "name": "stderr",
     "output_type": "stream",
     "text": [
      "[Stage 33:==============================================>           (4 + 1) / 5]\r"
     ]
    },
    {
     "name": "stdout",
     "output_type": "stream",
     "text": [
      "+--------------------+------------+-----------+\n",
      "|       business_name|review_stars| categories|\n",
      "+--------------------+------------+-----------+\n",
      "|\"Genuino\" Italian...|         5.0|Restaurants|\n",
      "|#1 Mongolian BBQ ...|         5.0|Restaurants|\n",
      "|$5 Fresh Burger Stop|         5.0|Restaurants|\n",
      "|      &pizza - UPenn|         5.0|Restaurants|\n",
      "|     &pizza - Walnut|         5.0|Restaurants|\n",
      "|&pizza - Willow G...|         5.0|Restaurants|\n",
      "|  'Merica Food Truck|         5.0|Restaurants|\n",
      "|        'Ono Poke Co|         5.0|Restaurants|\n",
      "|              'feine|         5.0|Restaurants|\n",
      "|                 'za|         5.0|Restaurants|\n",
      "+--------------------+------------+-----------+\n",
      "only showing top 10 rows\n",
      "\n"
     ]
    },
    {
     "name": "stderr",
     "output_type": "stream",
     "text": [
      "                                                                                \r"
     ]
    }
   ],
   "source": [
    "# Select the Top 5 best rated (Consider the restaurants has minimum 10 reviews) Restaurants using spark\n",
    "df_business_user_review.select(\"business_name\",\"review_stars\",\"categories\").filter(df_business_user_review.categories == \"Restaurants\").distinct().sort(col(\"review_stars\").desc(),col(\"business_name\").asc()).show(10)"
   ]
  },
  {
   "cell_type": "code",
   "execution_count": 21,
   "id": "a5384bea",
   "metadata": {},
   "outputs": [
    {
     "name": "stderr",
     "output_type": "stream",
     "text": [
      "[Stage 55:>                                                         (0 + 1) / 1]\r"
     ]
    },
    {
     "name": "stdout",
     "output_type": "stream",
     "text": [
      "+--------------------+-------------+------------+\n",
      "|       business_name|   categories|review_stars|\n",
      "+--------------------+-------------+------------+\n",
      "|Washington Brothe...|Home Services|         1.0|\n",
      "| Reno Tahoe Firewood|Home Services|         1.0|\n",
      "|Paul Bunyan Tree ...|Home Services|         1.0|\n",
      "|Lertak Building S...|Home Services|         1.0|\n",
      "|   J & S Sealcoating|Home Services|         1.0|\n",
      "+--------------------+-------------+------------+\n",
      "only showing top 5 rows\n",
      "\n"
     ]
    },
    {
     "name": "stderr",
     "output_type": "stream",
     "text": [
      "                                                                                \r"
     ]
    }
   ],
   "source": [
    "# Select worst 5 Home Services using spark\n",
    "df_business_user_review.select(\"business_name\",\"categories\",\"review_stars\").distinct().filter(df_business_user_review.categories == \"Home Services\").sort(col(\"review_stars\").asc(),col(\"business_name\").desc()).show(5)"
   ]
  },
  {
   "cell_type": "code",
   "execution_count": 14,
   "id": "3a0b600c",
   "metadata": {},
   "outputs": [
    {
     "name": "stderr",
     "output_type": "stream",
     "text": [
      "[Stage 43:=============================>                            (1 + 1) / 2]\r"
     ]
    },
    {
     "name": "stdout",
     "output_type": "stream",
     "text": [
      "+------------+-----------+\n",
      "|        city|Sum_Reviews|\n",
      "+------------+-----------+\n",
      "|Harleysville|        5.0|\n",
      "+------------+-----------+\n",
      "only showing top 1 row\n",
      "\n"
     ]
    },
    {
     "name": "stderr",
     "output_type": "stream",
     "text": [
      "                                                                                \r"
     ]
    }
   ],
   "source": [
    "# Select the City which has max high rated Nightlife\n",
    "\n",
    "business_nightLife = df_business_user_review.select(\"city\",\"review_stars\").filter(df_business_user_review.categories == \"Nightlife\")\n",
    "business_nightLife_group_city = business_nightLife.groupBy(\"city\").agg(max(col(\"review_stars\")).alias(\"Sum_Reviews\"))\n",
    "business_nightLife_sort_reviews = business_nightLife_group_city.sort(col(\"Sum_Reviews\").desc())\n",
    "\n",
    "business_nightLife_sort_reviews.show(1)"
   ]
  },
  {
   "cell_type": "code",
   "execution_count": 23,
   "id": "d33b4824",
   "metadata": {},
   "outputs": [
    {
     "name": "stderr",
     "output_type": "stream",
     "text": [
      "                                                                                \r"
     ]
    }
   ],
   "source": [
    "# Get the userid, name, category and review count of all the users and write into CSV\n",
    "q8_csv = df_business_user_review.select(\"user_id\",\"user_name\",\"categories\",\"business_review_count\",\"user_review_count\")\n",
    "q8_csv.coalesce(1).write.csv('/Users/esakkimuthumurugan/Documents/tasks/task6/final',header=True)\n"
   ]
  },
  {
   "cell_type": "code",
   "execution_count": null,
   "id": "a98499bf",
   "metadata": {},
   "outputs": [],
   "source": []
  }
 ],
 "metadata": {
  "kernelspec": {
   "display_name": "Python 3 (ipykernel)",
   "language": "python",
   "name": "python3"
  },
  "language_info": {
   "codemirror_mode": {
    "name": "ipython",
    "version": 3
   },
   "file_extension": ".py",
   "mimetype": "text/x-python",
   "name": "python",
   "nbconvert_exporter": "python",
   "pygments_lexer": "ipython3",
   "version": "3.9.12"
  }
 },
 "nbformat": 4,
 "nbformat_minor": 5
}
